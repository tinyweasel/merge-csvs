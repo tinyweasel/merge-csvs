{
 "cells": [
  {
   "cell_type": "code",
   "execution_count": 2,
   "metadata": {},
   "outputs": [],
   "source": [
    "import pandas as pd\n",
    "import os, glob\n",
    "from pathlib import Path"
   ]
  },
  {
   "cell_type": "code",
   "execution_count": 5,
   "metadata": {},
   "outputs": [],
   "source": [
    "input_folder = '' # set this\n",
    "output_folder = Path('') # set this"
   ]
  },
  {
   "cell_type": "code",
   "execution_count": 6,
   "metadata": {},
   "outputs": [],
   "source": [
    "def import_csvs(path):\n",
    "    all_files = glob.glob(path + \"/*.csv\")\n",
    "    all_files.sort()\n",
    "    file_list = []\n",
    "    for filename in all_files:\n",
    "        df = pd.read_csv(filename, low_memory=False)\n",
    "        file_list.append(df)\n",
    "    joined = pd.concat(file_list)\n",
    "    file_list.clear()\n",
    "    return joined"
   ]
  },
  {
   "cell_type": "code",
   "execution_count": 7,
   "metadata": {},
   "outputs": [
    {
     "name": "stdout",
     "output_type": "stream",
     "text": [
      "Processed DLPAll\n",
      "Processed AuditExchange\n",
      "Processed AuditAzureActiveDirectory\n",
      "Processed signIns\n",
      "Processed AuditSharePoint\n",
      "Processed directoryAudits\n",
      "Processed AuditGeneral\n"
     ]
    }
   ],
   "source": [
    "for _, dirs, _ in os.walk(input_folder):\n",
    "    for path in dirs:\n",
    "        if not 'ipynb_checkpoints' in path:\n",
    "            full_path = f'{input_folder}/{path}' \n",
    "            os.chdir(full_path)\n",
    "            joined_csvs = import_csvs(full_path)\n",
    "            \n",
    "            output_folder.mkdir(parents=True, exist_ok=True)\n",
    "            joined_csvs.to_csv(f'{output_folder/path}.csv', index=False)\n",
    "            os.chdir('..')\n",
    "            print(f'Processed {path}')"
   ]
  }
 ],
 "metadata": {
  "kernelspec": {
   "display_name": "Python 3",
   "language": "python",
   "name": "python3"
  },
  "language_info": {
   "codemirror_mode": {
    "name": "ipython",
    "version": 3
   },
   "file_extension": ".py",
   "mimetype": "text/x-python",
   "name": "python",
   "nbconvert_exporter": "python",
   "pygments_lexer": "ipython3",
   "version": "3.6.9"
  }
 },
 "nbformat": 4,
 "nbformat_minor": 2
}
